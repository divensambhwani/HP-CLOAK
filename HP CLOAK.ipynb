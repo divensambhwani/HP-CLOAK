{
 "cells": [
  {
   "cell_type": "code",
   "execution_count": null,
   "metadata": {},
   "outputs": [],
   "source": [
    "pip install opencv-python==4.1.2.30"
   ]
  },
  {
   "cell_type": "code",
   "execution_count": 1,
   "metadata": {
    "ExecuteTime": {
     "end_time": "2020-02-15T17:21:47.539218Z",
     "start_time": "2020-02-15T17:21:47.533476Z"
    }
   },
   "outputs": [
    {
     "name": "stdout",
     "output_type": "stream",
     "text": [
      "4.1.2\n"
     ]
    }
   ],
   "source": [
    "import cv2\n",
    "import numpy as np\n",
    "print(cv2.__version__)"
   ]
  },
  {
   "cell_type": "code",
   "execution_count": 3,
   "metadata": {
    "ExecuteTime": {
     "end_time": "2020-02-15T17:24:44.612714Z",
     "start_time": "2020-02-15T17:24:18.536439Z"
    }
   },
   "outputs": [],
   "source": [
    "\n",
    "##Import opencv(cv2), Numpy array(numpy) \n",
    "import cv2\n",
    "import time\n",
    "import numpy as np\n",
    "\n",
    "\n",
    "##reading from the webcam \n",
    "cap = cv2.VideoCapture(0)\n",
    "\n",
    "# We convert the resolutions from float to integer.\n",
    "frame_width = int(cap.get(3))\n",
    "frame_height = int(cap.get(4))\n",
    " \n",
    "# Define the codec and create VideoWriter object.The output is stored in 'outpy.avi' file.\n",
    "out = cv2.VideoWriter('outpy.avi',cv2.VideoWriter_fourcc('M','J','P','G'), 10, (frame_width,frame_height))\n",
    "\n",
    "\n",
    "background = 0\n",
    "\n",
    "## Capture the background\n",
    "for i in range(60):\n",
    "    ret,background = cap.read()\n",
    "background = np.flip(background,axis=1)\n",
    "\n",
    "\n",
    "## Read every frame from the webcam, until the camera is open\n",
    "while(cap.isOpened()):\n",
    "    ret, img = cap.read()\n",
    "    if not ret:\n",
    "        break\n",
    "    img = np.flip(img,axis=1)\n",
    "    \n",
    "    ## Conversion of the colour \n",
    "    hsv = cv2.cvtColor(img, cv2.COLOR_BGR2HSV)\n",
    "\n",
    "    ## Generat masks to detect red color\n",
    "    lr = np.array([0,120,50])\n",
    "    ur = np.array([10,255,255])\n",
    "    \n",
    "    # Threshold the HSV image to get only red colors\n",
    "    mask1 = cv2.inRange(hsv,lr,ur)\n",
    "\n",
    "    lr = np.array([170,120,70])\n",
    "    ur = np.array([180,255,255])\n",
    "    # Threshold the HSV image to get only red colors\n",
    "    mask2 = cv2.inRange(hsv,lr,ur)\n",
    "\n",
    "    #combining both using +  \n",
    "    mask1 = mask1+mask2\n",
    "   \n",
    "    #In mask 1 only those areas are highlithed where the color is red, everything else is black\n",
    "    \n",
    "    ## Create an inverted mask to segment out the red color from the frame\n",
    "    mask2 = cv2.bitwise_not(mask1)\n",
    " \n",
    " \n",
    "    ## Segment the red color part out of the frame using bitwise and with the inverted mask\n",
    "    res1 = cv2.bitwise_and(img,img,mask=mask2)\n",
    "\n",
    "    ## Create image showing static background frame pixels only for the masked region\n",
    "    res2 = cv2.bitwise_and(background, background, mask = mask1)\n",
    " \n",
    "\n",
    " \n",
    "    ## Generating the final output and writing\n",
    "    finalOutput = cv2.addWeighted(res1,1,res2,1,0) #MERGED BOTH THE OUTPUT WITH EQUAL WEIGHTS.\n",
    "    \n",
    "    out.write(finalOutput)\n",
    "    cv2.imshow(\"output\",finalOutput)\n",
    "    \n",
    "    if cv2.waitKey(1) == 27:\n",
    "        break\n",
    "\n",
    "cap.release()\n",
    "out.release()\n",
    "cv2.destroyAllWindows()"
   ]
  },
  {
   "cell_type": "code",
   "execution_count": null,
   "metadata": {},
   "outputs": [],
   "source": []
  }
 ],
 "metadata": {
  "kernelspec": {
   "display_name": "Python 3",
   "language": "python",
   "name": "python3"
  },
  "language_info": {
   "codemirror_mode": {
    "name": "ipython",
    "version": 3
   },
   "file_extension": ".py",
   "mimetype": "text/x-python",
   "name": "python",
   "nbconvert_exporter": "python",
   "pygments_lexer": "ipython3",
   "version": "3.7.4"
  }
 },
 "nbformat": 4,
 "nbformat_minor": 2
}
